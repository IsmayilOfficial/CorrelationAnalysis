{
 "cells": [
  {
   "cell_type": "code",
   "execution_count": 1,
   "metadata": {},
   "outputs": [],
   "source": [
    "import numpy as np\n",
    "import seaborn as sns\n",
    "import pandas as pd\n",
    "\n",
    "import matplotlib.pyplot as plt\n",
    "import matplotlib.colors as colors\n",
    "import datetime as dt\n",
    "import math\n",
    "\n",
    "import warnings\n",
    "warnings.filterwarnings('ignore')\n",
    "\n",
    "\n",
    "ca_categories = pd.read_json('GB_category_id.json')\n",
    "\n",
    "ca_videos = pd.read_csv('GBvideos.csv'\n",
    "                        #,encoding='latin1'\n",
    "                        \n",
    "                        #, cyrillic encoding='latin1'\n",
    "                       )\n"
   ]
  },
  {
   "cell_type": "code",
   "execution_count": 2,
   "metadata": {},
   "outputs": [
    {
     "name": "stdout",
     "output_type": "stream",
     "text": [
      "Data collection start date:  17.01.12\n",
      "Date collection end date:  18.31.05\n"
     ]
    }
   ],
   "source": [
    "ca_videos['trending_date'].sort_values()\n",
    "print('Data collection start date: ', ca_videos['trending_date'].min())\n",
    "print('Date collection end date: ', ca_videos['trending_date'].max())"
   ]
  },
  {
   "cell_type": "markdown",
   "metadata": {},
   "source": [
    "### Publication Date"
   ]
  },
  {
   "cell_type": "code",
   "execution_count": 3,
   "metadata": {},
   "outputs": [
    {
     "name": "stdout",
     "output_type": "stream",
     "text": [
      "Original publication start date:  2007-03-05\n",
      "Original publication end date:  18.31.05\n"
     ]
    }
   ],
   "source": [
    "ca_videos['publish_time'] = pd.to_datetime(ca_videos['publish_time'], format='%Y-%m-%dT%H:%M:%S.%fZ').dt.date\n",
    "print('Original publication start date: ', ca_videos['publish_time'].min())\n",
    "print('Original publication end date: ', ca_videos['trending_date'].max())"
   ]
  },
  {
   "cell_type": "markdown",
   "metadata": {},
   "source": [
    "## Categories"
   ]
  },
  {
   "cell_type": "code",
   "execution_count": 4,
   "metadata": {},
   "outputs": [
    {
     "data": {
      "text/plain": [
       "{1: 'Film & Animation',\n",
       " 2: 'Autos & Vehicles',\n",
       " 10: 'Music',\n",
       " 15: 'Pets & Animals',\n",
       " 17: 'Sports',\n",
       " 18: 'Short Movies',\n",
       " 19: 'Travel & Events',\n",
       " 20: 'Gaming',\n",
       " 21: 'Videoblogging',\n",
       " 22: 'People & Blogs',\n",
       " 23: 'Comedy',\n",
       " 24: 'Entertainment',\n",
       " 25: 'News & Politics',\n",
       " 26: 'Howto & Style',\n",
       " 27: 'Education',\n",
       " 28: 'Science & Technology',\n",
       " 30: 'Movies',\n",
       " 31: 'Anime/Animation',\n",
       " 32: 'Action/Adventure',\n",
       " 33: 'Classics',\n",
       " 34: 'Comedy',\n",
       " 35: 'Documentary',\n",
       " 36: 'Drama',\n",
       " 37: 'Family',\n",
       " 38: 'Foreign',\n",
       " 39: 'Horror',\n",
       " 40: 'Sci-Fi/Fantasy',\n",
       " 41: 'Thriller',\n",
       " 42: 'Shorts',\n",
       " 43: 'Shows',\n",
       " 44: 'Trailers'}"
      ]
     },
     "execution_count": 4,
     "metadata": {},
     "output_type": "execute_result"
    }
   ],
   "source": [
    "categories = {int(category['id']): category['snippet']['title'] for category in ca_categories['items']}\n",
    "ca_videos[\"category_name\"] = ca_videos[\"category_id\"].map(categories)\n",
    "categories"
   ]
  },
  {
   "cell_type": "markdown",
   "metadata": {},
   "source": [
    "In the description above, we determined that #24 is the category with the most trending videos. Here we can see that it's entertainment."
   ]
  },
  {
   "cell_type": "markdown",
   "metadata": {},
   "source": [
    "## Boolean Data"
   ]
  },
  {
   "cell_type": "markdown",
   "metadata": {},
   "source": [
    "Now we evaluate the boolean data, before moving on to the numerical data. \n",
    "There are three boolean variables: comment_disabled, ratings_disabled, and video_error_or_removed."
   ]
  },
  {
   "cell_type": "code",
   "execution_count": 5,
   "metadata": {},
   "outputs": [
    {
     "name": "stdout",
     "output_type": "stream",
     "text": [
      "       comments_disabled  ratings_disabled  video_error_or_removed\n",
      "False              38233             38644                   38847\n",
      "True                 683               272                      69\n",
      "\n",
      "Number of videos with comments and ratings disabled that have been removed:  0\n",
      "Number of videos with both comments and ratings disabled:  224\n"
     ]
    }
   ],
   "source": [
    "bool_data = ca_videos.select_dtypes(include = 'bool').apply(pd.Series.value_counts)\n",
    "print(bool_data)\n",
    "print()\n",
    "print('Number of videos with comments and ratings disabled that have been removed: ', \n",
    "      len(ca_videos[(ca_videos[\"comments_disabled\"] == True) & (ca_videos[\"ratings_disabled\"] == True) & (ca_videos['video_error_or_removed'] == True)]))\n",
    "print('Number of videos with both comments and ratings disabled: ',  \n",
    "      len(ca_videos[(ca_videos[\"comments_disabled\"] == True) & (ca_videos[\"ratings_disabled\"] == True)]))"
   ]
  },
  {
   "cell_type": "code",
   "execution_count": 6,
   "metadata": {},
   "outputs": [
    {
     "data": {
      "text/plain": [
       "<matplotlib.legend.Legend at 0x10d99dad0>"
      ]
     },
     "execution_count": 6,
     "metadata": {},
     "output_type": "execute_result"
    },
    {
     "data": {
      "image/png": "[encoded data removed]",
      "text/plain": [
       "<Figure size 432x288 with 1 Axes>"
      ]
     },
     "metadata": {
      "needs_background": "light"
     },
     "output_type": "display_data"
    }
   ],
   "source": [
    "bool_data = bool_data.transpose()\n",
    "bool_data.plot.bar(stacked = True)\n",
    "plt.xticks(rotation = 'horizontal')\n",
    "plt.legend(bbox_to_anchor=(1.01, 1), loc='upper left')"
   ]
  },
  {
   "cell_type": "markdown",
   "metadata": {},
   "source": [
    "Clearly a very low percentage of videos have disabled comments, ratings, or have been removed due to error. "
   ]
  },
  {
   "cell_type": "code",
   "execution_count": 7,
   "metadata": {},
   "outputs": [
    {
     "data": {
      "text/html": [
       "<div>\n",
       "<style scoped>\n",
       "    .dataframe tbody tr th:only-of-type {\n",
       "        vertical-align: middle;\n",
       "    }\n",
       "\n",
       "    .dataframe tbody tr th {\n",
       "        vertical-align: top;\n",
       "    }\n",
       "\n",
       "    .dataframe thead th {\n",
       "        text-align: right;\n",
       "    }\n",
       "</style>\n",
       "<table border=\"1\" class=\"dataframe\">\n",
       "  <thead>\n",
       "    <tr style=\"text-align: right;\">\n",
       "      <th></th>\n",
       "      <th>video_id</th>\n",
       "      <th>trending_date</th>\n",
       "      <th>title</th>\n",
       "      <th>channel_title</th>\n",
       "      <th>category_id</th>\n",
       "      <th>publish_time</th>\n",
       "      <th>tags</th>\n",
       "      <th>views</th>\n",
       "      <th>likes</th>\n",
       "      <th>dislikes</th>\n",
       "      <th>comment_count</th>\n",
       "      <th>thumbnail_link</th>\n",
       "      <th>comments_disabled</th>\n",
       "      <th>ratings_disabled</th>\n",
       "      <th>video_error_or_removed</th>\n",
       "      <th>description</th>\n",
       "      <th>category_name</th>\n",
       "    </tr>\n",
       "  </thead>\n",
       "  <tbody>\n",
       "    <tr>\n",
       "      <th>31995</th>\n",
       "      <td>BEePFpC9qG8</td>\n",
       "      <td>18.04.05</td>\n",
       "      <td>360 Google Doodles/Spotlight Stories: Back to ...</td>\n",
       "      <td>Google Spotlight Stories</td>\n",
       "      <td>1</td>\n",
       "      <td>2018-05-02</td>\n",
       "      <td>google spotlight stories|\"spotlight stories\"|\"...</td>\n",
       "      <td>2465294</td>\n",
       "      <td>99973</td>\n",
       "      <td>17299</td>\n",
       "      <td>16813</td>\n",
       "      <td>https://i.ytimg.com/vi/BEePFpC9qG8/default.jpg</td>\n",
       "      <td>False</td>\n",
       "      <td>False</td>\n",
       "      <td>True</td>\n",
       "      <td>The Google Doodle, Google Spotlight Stories, G...</td>\n",
       "      <td>Film &amp; Animation</td>\n",
       "    </tr>\n",
       "    <tr>\n",
       "      <th>32169</th>\n",
       "      <td>BEePFpC9qG8</td>\n",
       "      <td>18.05.05</td>\n",
       "      <td>360 Google Doodles/Spotlight Stories: Back to ...</td>\n",
       "      <td>Google Spotlight Stories</td>\n",
       "      <td>1</td>\n",
       "      <td>2018-05-02</td>\n",
       "      <td>google spotlight stories|\"spotlight stories\"|\"...</td>\n",
       "      <td>2033836</td>\n",
       "      <td>121001</td>\n",
       "      <td>1702</td>\n",
       "      <td>16464</td>\n",
       "      <td>https://i.ytimg.com/vi/BEePFpC9qG8/default.jpg</td>\n",
       "      <td>False</td>\n",
       "      <td>False</td>\n",
       "      <td>True</td>\n",
       "      <td>The Google Doodle, Google Spotlight Stories, G...</td>\n",
       "      <td>Film &amp; Animation</td>\n",
       "    </tr>\n",
       "    <tr>\n",
       "      <th>32173</th>\n",
       "      <td>1Aoc-cd9eYs</td>\n",
       "      <td>18.05.05</td>\n",
       "      <td>Cobra Kai Ep 2 - Strike First - The Karate Kid...</td>\n",
       "      <td>Cobra Kai</td>\n",
       "      <td>24</td>\n",
       "      <td>2018-05-02</td>\n",
       "      <td>Cobra Kai|\"Karate Kid\"|\"YouTube Red Original S...</td>\n",
       "      <td>2260075</td>\n",
       "      <td>199123</td>\n",
       "      <td>3437</td>\n",
       "      <td>13416</td>\n",
       "      <td>https://i.ytimg.com/vi/1Aoc-cd9eYs/default.jpg</td>\n",
       "      <td>False</td>\n",
       "      <td>False</td>\n",
       "      <td>True</td>\n",
       "      <td>Present day Daniel LaRusso lives a charmed lif...</td>\n",
       "      <td>Entertainment</td>\n",
       "    </tr>\n",
       "    <tr>\n",
       "      <th>32337</th>\n",
       "      <td>BEePFpC9qG8</td>\n",
       "      <td>18.06.05</td>\n",
       "      <td>360 Google Doodles/Spotlight Stories: Back to ...</td>\n",
       "      <td>Google Spotlight Stories</td>\n",
       "      <td>1</td>\n",
       "      <td>2018-05-02</td>\n",
       "      <td>google spotlight stories|\"spotlight stories\"|\"...</td>\n",
       "      <td>6937924</td>\n",
       "      <td>241122</td>\n",
       "      <td>11515</td>\n",
       "      <td>15101</td>\n",
       "      <td>https://i.ytimg.com/vi/BEePFpC9qG8/default.jpg</td>\n",
       "      <td>False</td>\n",
       "      <td>False</td>\n",
       "      <td>True</td>\n",
       "      <td>The Google Doodle, Google Spotlight Stories, G...</td>\n",
       "      <td>Film &amp; Animation</td>\n",
       "    </tr>\n",
       "    <tr>\n",
       "      <th>32341</th>\n",
       "      <td>1Aoc-cd9eYs</td>\n",
       "      <td>18.06.05</td>\n",
       "      <td>Cobra Kai Ep 2 - Strike First - The Karate Kid...</td>\n",
       "      <td>Cobra Kai</td>\n",
       "      <td>24</td>\n",
       "      <td>2018-05-02</td>\n",
       "      <td>Cobra Kai|\"Karate Kid\"|\"YouTube Red Original S...</td>\n",
       "      <td>75626</td>\n",
       "      <td>3529</td>\n",
       "      <td>65</td>\n",
       "      <td>328</td>\n",
       "      <td>https://i.ytimg.com/vi/1Aoc-cd9eYs/default.jpg</td>\n",
       "      <td>False</td>\n",
       "      <td>False</td>\n",
       "      <td>True</td>\n",
       "      <td>Present day Daniel LaRusso lives a charmed lif...</td>\n",
       "      <td>Entertainment</td>\n",
       "    </tr>\n",
       "  </tbody>\n",
       "</table>\n",
       "</div>"
      ],
      "text/plain": [
       "          video_id trending_date  \\\n",
       "31995  BEePFpC9qG8      18.04.05   \n",
       "32169  BEePFpC9qG8      18.05.05   \n",
       "32173  1Aoc-cd9eYs      18.05.05   \n",
       "32337  BEePFpC9qG8      18.06.05   \n",
       "32341  1Aoc-cd9eYs      18.06.05   \n",
       "\n",
       "                                                   title  \\\n",
       "31995  360 Google Doodles/Spotlight Stories: Back to ...   \n",
       "32169  360 Google Doodles/Spotlight Stories: Back to ...   \n",
       "32173  Cobra Kai Ep 2 - Strike First - The Karate Kid...   \n",
       "32337  360 Google Doodles/Spotlight Stories: Back to ...   \n",
       "32341  Cobra Kai Ep 2 - Strike First - The Karate Kid...   \n",
       "\n",
       "                  channel_title  category_id publish_time  \\\n",
       "31995  Google Spotlight Stories            1   2018-05-02   \n",
       "32169  Google Spotlight Stories            1   2018-05-02   \n",
       "32173                 Cobra Kai           24   2018-05-02   \n",
       "32337  Google Spotlight Stories            1   2018-05-02   \n",
       "32341                 Cobra Kai           24   2018-05-02   \n",
       "\n",
       "                                                    tags    views   likes  \\\n",
       "31995  google spotlight stories|\"spotlight stories\"|\"...  2465294   99973   \n",
       "32169  google spotlight stories|\"spotlight stories\"|\"...  2033836  121001   \n",
       "32173  Cobra Kai|\"Karate Kid\"|\"YouTube Red Original S...  2260075  199123   \n",
       "32337  google spotlight stories|\"spotlight stories\"|\"...  6937924  241122   \n",
       "32341  Cobra Kai|\"Karate Kid\"|\"YouTube Red Original S...    75626    3529   \n",
       "\n",
       "       dislikes  comment_count  \\\n",
       "31995     17299          16813   \n",
       "32169      1702          16464   \n",
       "32173      3437          13416   \n",
       "32337     11515          15101   \n",
       "32341        65            328   \n",
       "\n",
       "                                       thumbnail_link  comments_disabled  \\\n",
       "31995  https://i.ytimg.com/vi/BEePFpC9qG8/default.jpg              False   \n",
       "32169  https://i.ytimg.com/vi/BEePFpC9qG8/default.jpg              False   \n",
       "32173  https://i.ytimg.com/vi/1Aoc-cd9eYs/default.jpg              False   \n",
       "32337  https://i.ytimg.com/vi/BEePFpC9qG8/default.jpg              False   \n",
       "32341  https://i.ytimg.com/vi/1Aoc-cd9eYs/default.jpg              False   \n",
       "\n",
       "       ratings_disabled  video_error_or_removed  \\\n",
       "31995             False                    True   \n",
       "32169             False                    True   \n",
       "32173             False                    True   \n",
       "32337             False                    True   \n",
       "32341             False                    True   \n",
       "\n",
       "                                             description     category_name  \n",
       "31995  The Google Doodle, Google Spotlight Stories, G...  Film & Animation  \n",
       "32169  The Google Doodle, Google Spotlight Stories, G...  Film & Animation  \n",
       "32173  Present day Daniel LaRusso lives a charmed lif...     Entertainment  \n",
       "32337  The Google Doodle, Google Spotlight Stories, G...  Film & Animation  \n",
       "32341  Present day Daniel LaRusso lives a charmed lif...     Entertainment  "
      ]
     },
     "execution_count": 7,
     "metadata": {},
     "output_type": "execute_result"
    }
   ],
   "source": [
    "ca_videos.loc[ca_videos['video_error_or_removed'] == True].head(5)"
   ]
  },
  {
   "cell_type": "markdown",
   "metadata": {},
   "source": [
    "While, videos with comments_disabled and ratings_disabled might give us some insight, videos that were removed and/or had an error can be dropped. We can see that some of them have titles such as 'deleted videos' and or other missing values. Given the small number of deleted videos, the dataset will not be majorily influenced by removing the entries with deleted videos and the variables video_error_or_removed."
   ]
  },
  {
   "cell_type": "code",
   "execution_count": 8,
   "metadata": {},
   "outputs": [],
   "source": [
    "#delete rows and columns\n",
    "ca_videos = ca_videos[~ca_videos.video_error_or_removed]\n",
    "del ca_videos['video_error_or_removed']"
   ]
  },
  {
   "cell_type": "markdown",
   "metadata": {},
   "source": [
    "## Numerical Data Exploration"
   ]
  },
  {
   "cell_type": "code",
   "execution_count": 9,
   "metadata": {},
   "outputs": [
    {
     "data": {
      "text/html": [
       "<div>\n",
       "<style scoped>\n",
       "    .dataframe tbody tr th:only-of-type {\n",
       "        vertical-align: middle;\n",
       "    }\n",
       "\n",
       "    .dataframe tbody tr th {\n",
       "        vertical-align: top;\n",
       "    }\n",
       "\n",
       "    .dataframe thead th {\n",
       "        text-align: right;\n",
       "    }\n",
       "</style>\n",
       "<table border=\"1\" class=\"dataframe\">\n",
       "  <thead>\n",
       "    <tr style=\"text-align: right;\">\n",
       "      <th></th>\n",
       "      <th>category_id</th>\n",
       "      <th>views</th>\n",
       "      <th>likes</th>\n",
       "      <th>dislikes</th>\n",
       "      <th>comment_count</th>\n",
       "    </tr>\n",
       "  </thead>\n",
       "  <tbody>\n",
       "    <tr>\n",
       "      <th>count</th>\n",
       "      <td>38847.000000</td>\n",
       "      <td>3.884700e+04</td>\n",
       "      <td>3.884700e+04</td>\n",
       "      <td>3.884700e+04</td>\n",
       "      <td>3.884700e+04</td>\n",
       "    </tr>\n",
       "    <tr>\n",
       "      <th>mean</th>\n",
       "      <td>16.830231</td>\n",
       "      <td>5.904088e+06</td>\n",
       "      <td>1.343947e+05</td>\n",
       "      <td>7.587944e+03</td>\n",
       "      <td>1.308051e+04</td>\n",
       "    </tr>\n",
       "    <tr>\n",
       "      <th>std</th>\n",
       "      <td>7.749929</td>\n",
       "      <td>1.900500e+07</td>\n",
       "      <td>3.500617e+05</td>\n",
       "      <td>5.096867e+04</td>\n",
       "      <td>5.069698e+04</td>\n",
       "    </tr>\n",
       "    <tr>\n",
       "      <th>min</th>\n",
       "      <td>1.000000</td>\n",
       "      <td>8.510000e+02</td>\n",
       "      <td>0.000000e+00</td>\n",
       "      <td>0.000000e+00</td>\n",
       "      <td>0.000000e+00</td>\n",
       "    </tr>\n",
       "    <tr>\n",
       "      <th>25%</th>\n",
       "      <td>10.000000</td>\n",
       "      <td>2.510330e+05</td>\n",
       "      <td>5.881500e+03</td>\n",
       "      <td>2.000000e+02</td>\n",
       "      <td>6.780000e+02</td>\n",
       "    </tr>\n",
       "    <tr>\n",
       "      <th>50%</th>\n",
       "      <td>20.000000</td>\n",
       "      <td>9.779410e+05</td>\n",
       "      <td>2.513000e+04</td>\n",
       "      <td>8.190000e+02</td>\n",
       "      <td>2.474000e+03</td>\n",
       "    </tr>\n",
       "    <tr>\n",
       "      <th>75%</th>\n",
       "      <td>24.000000</td>\n",
       "      <td>3.680534e+06</td>\n",
       "      <td>1.140355e+05</td>\n",
       "      <td>3.356000e+03</td>\n",
       "      <td>9.237000e+03</td>\n",
       "    </tr>\n",
       "    <tr>\n",
       "      <th>max</th>\n",
       "      <td>43.000000</td>\n",
       "      <td>4.245389e+08</td>\n",
       "      <td>5.613827e+06</td>\n",
       "      <td>1.944971e+06</td>\n",
       "      <td>1.626501e+06</td>\n",
       "    </tr>\n",
       "  </tbody>\n",
       "</table>\n",
       "</div>"
      ],
      "text/plain": [
       "        category_id         views         likes      dislikes  comment_count\n",
       "count  38847.000000  3.884700e+04  3.884700e+04  3.884700e+04   3.884700e+04\n",
       "mean      16.830231  5.904088e+06  1.343947e+05  7.587944e+03   1.308051e+04\n",
       "std        7.749929  1.900500e+07  3.500617e+05  5.096867e+04   5.069698e+04\n",
       "min        1.000000  8.510000e+02  0.000000e+00  0.000000e+00   0.000000e+00\n",
       "25%       10.000000  2.510330e+05  5.881500e+03  2.000000e+02   6.780000e+02\n",
       "50%       20.000000  9.779410e+05  2.513000e+04  8.190000e+02   2.474000e+03\n",
       "75%       24.000000  3.680534e+06  1.140355e+05  3.356000e+03   9.237000e+03\n",
       "max       43.000000  4.245389e+08  5.613827e+06  1.944971e+06   1.626501e+06"
      ]
     },
     "execution_count": 9,
     "metadata": {},
     "output_type": "execute_result"
    }
   ],
   "source": [
    "ca_videos.describe(include = [np.number])"
   ]
  },
  {
   "cell_type": "markdown",
   "metadata": {},
   "source": [
    "We can see that most data points in likes, dislikes, and comment_count are fairly close to the mean. However, the views data points seem to be more spread out. It's possible that there are outliers where videos become trending with fewer/more views, likes, or comment counts. It's also possible for videos with disabled comments and/or ratings to make it to the trending list. \n",
    "\n",
    "We can also see that the number of views can be as low as 733 and as high as 137, 843, 100. \n",
    "\n",
    "Let's visualize their distribution to get a better idea."
   ]
  },
  {
   "cell_type": "markdown",
   "metadata": {},
   "source": [
    "### Views Distribution"
   ]
  },
  {
   "cell_type": "code",
   "execution_count": 10,
   "metadata": {},
   "outputs": [
    {
     "name": "stdout",
     "output_type": "stream",
     "text": [
      "Skewness:  9.069645383650133\n",
      "Kurtosis:  115.53694634421694\n"
     ]
    },
    {
     "data": {
      "text/plain": [
       "count    3.884700e+04\n",
       "mean     5.904088e+06\n",
       "std      1.900500e+07\n",
       "min      8.510000e+02\n",
       "15%      1.252558e+05\n",
       "30%      3.356122e+05\n",
       "50%      9.779410e+05\n",
       "65%      2.116632e+06\n",
       "80%      5.221907e+06\n",
       "95%      2.440834e+07\n",
       "max      4.245389e+08\n",
       "Name: views, dtype: float64"
      ]
     },
     "execution_count": 10,
     "metadata": {},
     "output_type": "execute_result"
    }
   ],
   "source": [
    "print('Skewness: ', ca_videos['views'].skew())\n",
    "print('Kurtosis: ', ca_videos['views'].kurtosis())\n",
    "ca_videos['views'].describe(percentiles=[.15,.30,.5,.65,.80, .95])"
   ]
  },
  {
   "cell_type": "markdown",
   "metadata": {},
   "source": [
    "We can also see that the number of views can be as low as 733 and as high as 137, 843, 100. \n",
    "\n",
    "50% of videos have 176,707 views or less and the majority of videos (95%) have 4,090,188. However, we can see that 80% of videos have around 1 million views or less, which means that only 15% of the 95% have views between 2 and 4 million.\n",
    "\n",
    "We can clearly see that the data are fairly spread out, especially as the skewness and kurtosis are very high,\n",
    "\n",
    "To put these numbers in perspective and to minimize the visibility of outliers, let's visualize the distribution of videos with less than 4,500,000 views."
   ]
  },
  {
   "cell_type": "code",
   "execution_count": 11,
   "metadata": {},
   "outputs": [
    {
     "data": {
      "image/png": "[encoded data removed]",
      "text/plain": [
       "<Figure size 432x288 with 1 Axes>"
      ]
     },
     "metadata": {
      "needs_background": "light"
     },
     "output_type": "display_data"
    }
   ],
   "source": [
    "ax = sns.distplot(ca_videos[ca_videos[\"views\"] < 4.5e6][\"views\"], kde = False, color = 'midnightblue', \n",
    "                  hist_kws = {'alpha': 1})\n",
    "ax.set(xlabel = 'Views', ylabel = '# of Videos')\n",
    "ax.set(title = \"Number of views of 95% of videos\")\n",
    "plt.show()"
   ]
  },
  {
   "cell_type": "markdown",
   "metadata": {},
   "source": [
    "### Likes Distribution"
   ]
  },
  {
   "cell_type": "code",
   "execution_count": 12,
   "metadata": {},
   "outputs": [
    {
     "name": "stdout",
     "output_type": "stream",
     "text": [
      "Skewness:  6.871288097742075\n",
      "Kurtosis:  66.53476291220764\n"
     ]
    },
    {
     "data": {
      "text/plain": [
       "count    3.884700e+04\n",
       "mean     1.343947e+05\n",
       "std      3.500617e+05\n",
       "min      0.000000e+00\n",
       "15%      2.719800e+03\n",
       "30%      8.139000e+03\n",
       "50%      2.513000e+04\n",
       "65%      6.103260e+04\n",
       "80%      1.579006e+05\n",
       "95%      5.622580e+05\n",
       "max      5.613827e+06\n",
       "Name: likes, dtype: float64"
      ]
     },
     "execution_count": 12,
     "metadata": {},
     "output_type": "execute_result"
    }
   ],
   "source": [
    "print('Skewness: ', ca_videos['likes'].skew())\n",
    "print('Kurtosis: ', ca_videos['likes'].kurtosis())\n",
    "ca_videos['likes'].describe(percentiles=[.15,.30,.5,.65,.80, .95])"
   ]
  },
  {
   "cell_type": "markdown",
   "metadata": {},
   "source": [
    "Here we can see that the minimum number of likes is 0 but that is likely because some videos have that feature disables. The max can reach as high as 5,053,338. \n",
    "\n",
    "95% of videos 165,236 likes or less, while 80% have 38,557 likes. This shows us that the majority of videos do not require a huge amount of likes to become trending. \n",
    "\n",
    "We will visualize the spread of videos with 200,000 likes or less. "
   ]
  },
  {
   "cell_type": "code",
   "execution_count": 13,
   "metadata": {},
   "outputs": [
    {
     "data": {
      "image/png": "[encoded data removed]",
      "text/plain": [
       "<Figure size 432x288 with 1 Axes>"
      ]
     },
     "metadata": {
      "needs_background": "light"
     },
     "output_type": "display_data"
    }
   ],
   "source": [
    "ax = sns.distplot(ca_videos[ca_videos[\"likes\"] < 2e5][\"likes\"], kde = False, color = 'midnightblue', \n",
    "                  hist_kws = {'alpha': 1})\n",
    "ax.set(xlabel = 'Likes', ylabel = '# of Videos')\n",
    "ax.set(title = \"Number of likes of 95% of videos\")\n",
    "plt.show()"
   ]
  },
  {
   "cell_type": "markdown",
   "metadata": {},
   "source": [
    "### Dislikes Distribution"
   ]
  },
  {
   "cell_type": "code",
   "execution_count": 14,
   "metadata": {},
   "outputs": [
    {
     "name": "stdout",
     "output_type": "stream",
     "text": [
      "Skewness:  27.04532607607513\n",
      "Kurtosis:  876.0672892522236\n"
     ]
    },
    {
     "data": {
      "text/plain": [
       "count    3.884700e+04\n",
       "mean     7.587944e+03\n",
       "std      5.096867e+04\n",
       "min      0.000000e+00\n",
       "15%      9.700000e+01\n",
       "30%      2.750000e+02\n",
       "50%      8.190000e+02\n",
       "65%      1.862000e+03\n",
       "80%      5.090000e+03\n",
       "95%      2.686480e+04\n",
       "max      1.944971e+06\n",
       "Name: dislikes, dtype: float64"
      ]
     },
     "execution_count": 14,
     "metadata": {},
     "output_type": "execute_result"
    }
   ],
   "source": [
    "print('Skewness: ', ca_videos['dislikes'].skew())\n",
    "print('Kurtosis: ', ca_videos['dislikes'].kurtosis())\n",
    "ca_videos['dislikes'].describe(percentiles=[.15,.30,.5,.65,.80, .95])"
   ]
  },
  {
   "cell_type": "markdown",
   "metadata": {},
   "source": [
    "The minimum number of dislikes can be as low as 0 and as high as 1,602,383. The majority, however, have fewer than 6,468 dislikes. So only 5% if videos are between 6,000-1,000,000. Again 80% of videos have 1,288 ldislikes or less. So, it's less common to have dislikes on trending videos. \n",
    "\n",
    "Now we will visualize the distribution of videos with less than 6000 dislikes"
   ]
  },
  {
   "cell_type": "code",
   "execution_count": 15,
   "metadata": {},
   "outputs": [
    {
     "data": {
      "image/png": "[encoded data removed]",
      "text/plain": [
       "<Figure size 432x288 with 1 Axes>"
      ]
     },
     "metadata": {
      "needs_background": "light"
     },
     "output_type": "display_data"
    }
   ],
   "source": [
    "ax = sns.distplot(ca_videos[ca_videos[\"dislikes\"] < 6e3][\"dislikes\"], kde = False, color = 'midnightblue', \n",
    "                  hist_kws = {'alpha': 1})\n",
    "ax.set(xlabel = 'Dislikes', ylabel = '# of Videos')\n",
    "ax.set(title = \"Number of dislikes of 95% of videos\")\n",
    "plt.show()"
   ]
  },
  {
   "cell_type": "markdown",
   "metadata": {},
   "source": [
    "### Comment Count Distribution"
   ]
  },
  {
   "cell_type": "code",
   "execution_count": 16,
   "metadata": {},
   "outputs": [
    {
     "name": "stdout",
     "output_type": "stream",
     "text": [
      "Skewness:  15.543603334854355\n",
      "Kurtosis:  344.5430529320791\n"
     ]
    },
    {
     "data": {
      "text/plain": [
       "count    3.884700e+04\n",
       "mean     1.308051e+04\n",
       "std      5.069698e+04\n",
       "min      0.000000e+00\n",
       "15%      3.420000e+02\n",
       "30%      9.080000e+02\n",
       "50%      2.474000e+03\n",
       "65%      5.158000e+03\n",
       "80%      1.252800e+04\n",
       "95%      5.023130e+04\n",
       "max      1.626501e+06\n",
       "Name: comment_count, dtype: float64"
      ]
     },
     "execution_count": 16,
     "metadata": {},
     "output_type": "execute_result"
    }
   ],
   "source": [
    "print('Skewness: ', ca_videos['comment_count'].skew())\n",
    "print('Kurtosis: ', ca_videos['comment_count'].kurtosis())\n",
    "ca_videos['comment_count'].describe(percentiles=[.15,.30,.5,.65,.80, .95])"
   ]
  },
  {
   "cell_type": "markdown",
   "metadata": {},
   "source": [
    "Comment count can go from as low as 0 to as high as 1,114,800. The majority have a count of 19,189 comments or less, while 80% have a comment count of 4,823 or less. "
   ]
  },
  {
   "cell_type": "code",
   "execution_count": 17,
   "metadata": {},
   "outputs": [
    {
     "data": {
      "image/png": "[encoded data removed]",
      "text/plain": [
       "<Figure size 432x288 with 1 Axes>"
      ]
     },
     "metadata": {
      "needs_background": "light"
     },
     "output_type": "display_data"
    }
   ],
   "source": [
    "ax = sns.distplot(ca_videos[ca_videos[\"comment_count\"] < 1.2e4][\"comment_count\"], kde = False, color = 'midnightblue',\n",
    "                  hist_kws = {'alpha': 1})\n",
    "         \n",
    "ax.set(xlabel = 'Comment Count', ylabel = '# of Videos')\n",
    "ax.set(title = \"Number of comments of 95% of videos\")\n",
    "plt.show()"
   ]
  },
  {
   "cell_type": "code",
   "execution_count": 18,
   "metadata": {},
   "outputs": [
    {
     "data": {
      "text/plain": [
       "const            6.450483\n",
       "category_id      1.049928\n",
       "views            3.823265\n",
       "likes            7.469701\n",
       "dislikes         3.450295\n",
       "comment_count    6.870733\n",
       "dtype: float64"
      ]
     },
     "execution_count": 18,
     "metadata": {},
     "output_type": "execute_result"
    }
   ],
   "source": [
    "from statsmodels.stats.outliers_influence import variance_inflation_factor\n",
    "from statsmodels.tools.tools import add_constant\n",
    "\n",
    "X = add_constant(ca_videos.select_dtypes(include = ['number']))\n",
    "pd.Series([variance_inflation_factor(X.values, i) \n",
    "               for i in range(X.shape[1])], \n",
    "              index=X.columns)"
   ]
  },
  {
   "cell_type": "markdown",
   "metadata": {},
   "source": [
    "## Dislikes Ratio"
   ]
  },
  {
   "cell_type": "code",
   "execution_count": 19,
   "metadata": {
    "scrolled": true
   },
   "outputs": [
    {
     "data": {
      "text/html": [
       "<div>\n",
       "<style scoped>\n",
       "    .dataframe tbody tr th:only-of-type {\n",
       "        vertical-align: middle;\n",
       "    }\n",
       "\n",
       "    .dataframe tbody tr th {\n",
       "        vertical-align: top;\n",
       "    }\n",
       "\n",
       "    .dataframe thead th {\n",
       "        text-align: right;\n",
       "    }\n",
       "</style>\n",
       "<table border=\"1\" class=\"dataframe\">\n",
       "  <thead>\n",
       "    <tr style=\"text-align: right;\">\n",
       "      <th></th>\n",
       "      <th>video_id</th>\n",
       "      <th>trending_date</th>\n",
       "      <th>title</th>\n",
       "      <th>channel_title</th>\n",
       "      <th>category_id</th>\n",
       "      <th>publish_time</th>\n",
       "      <th>tags</th>\n",
       "      <th>views</th>\n",
       "      <th>likes</th>\n",
       "      <th>dislikes</th>\n",
       "      <th>comment_count</th>\n",
       "      <th>thumbnail_link</th>\n",
       "      <th>comments_disabled</th>\n",
       "      <th>ratings_disabled</th>\n",
       "      <th>description</th>\n",
       "      <th>category_name</th>\n",
       "      <th>dislikes_ratio</th>\n",
       "    </tr>\n",
       "  </thead>\n",
       "  <tbody>\n",
       "    <tr>\n",
       "      <th>75</th>\n",
       "      <td>vHCvmZlC5jQ</td>\n",
       "      <td>17.14.11</td>\n",
       "      <td>Every Kevin Spacey Joke from Difficult People</td>\n",
       "      <td>Difficult Psycho</td>\n",
       "      <td>24</td>\n",
       "      <td>2017-11-01</td>\n",
       "      <td>kevin spacey|\"difficult people\"|\"julie klausne...</td>\n",
       "      <td>735972</td>\n",
       "      <td>0</td>\n",
       "      <td>0</td>\n",
       "      <td>0</td>\n",
       "      <td>https://i.ytimg.com/vi/vHCvmZlC5jQ/default.jpg</td>\n",
       "      <td>True</td>\n",
       "      <td>True</td>\n",
       "      <td>Watch Difficult People on Hulu now!! http://hu...</td>\n",
       "      <td>Entertainment</td>\n",
       "      <td>NaN</td>\n",
       "    </tr>\n",
       "    <tr>\n",
       "      <th>296</th>\n",
       "      <td>vHCvmZlC5jQ</td>\n",
       "      <td>17.15.11</td>\n",
       "      <td>Every Kevin Spacey Joke from Difficult People</td>\n",
       "      <td>Difficult Psycho</td>\n",
       "      <td>24</td>\n",
       "      <td>2017-11-01</td>\n",
       "      <td>kevin spacey|\"difficult people\"|\"julie klausne...</td>\n",
       "      <td>742287</td>\n",
       "      <td>0</td>\n",
       "      <td>0</td>\n",
       "      <td>0</td>\n",
       "      <td>https://i.ytimg.com/vi/vHCvmZlC5jQ/default.jpg</td>\n",
       "      <td>True</td>\n",
       "      <td>True</td>\n",
       "      <td>Watch Difficult People on Hulu now!! http://hu...</td>\n",
       "      <td>Entertainment</td>\n",
       "      <td>NaN</td>\n",
       "    </tr>\n",
       "    <tr>\n",
       "      <th>509</th>\n",
       "      <td>vHCvmZlC5jQ</td>\n",
       "      <td>17.16.11</td>\n",
       "      <td>Every Kevin Spacey Joke from Difficult People</td>\n",
       "      <td>Difficult Psycho</td>\n",
       "      <td>24</td>\n",
       "      <td>2017-11-01</td>\n",
       "      <td>kevin spacey|\"difficult people\"|\"julie klausne...</td>\n",
       "      <td>745369</td>\n",
       "      <td>0</td>\n",
       "      <td>0</td>\n",
       "      <td>0</td>\n",
       "      <td>https://i.ytimg.com/vi/vHCvmZlC5jQ/default.jpg</td>\n",
       "      <td>True</td>\n",
       "      <td>True</td>\n",
       "      <td>Watch Difficult People on Hulu now!! http://hu...</td>\n",
       "      <td>Entertainment</td>\n",
       "      <td>NaN</td>\n",
       "    </tr>\n",
       "    <tr>\n",
       "      <th>749</th>\n",
       "      <td>vHCvmZlC5jQ</td>\n",
       "      <td>17.17.11</td>\n",
       "      <td>Every Kevin Spacey Joke from Difficult People</td>\n",
       "      <td>Difficult Psycho</td>\n",
       "      <td>24</td>\n",
       "      <td>2017-11-01</td>\n",
       "      <td>kevin spacey|\"difficult people\"|\"julie klausne...</td>\n",
       "      <td>747316</td>\n",
       "      <td>0</td>\n",
       "      <td>0</td>\n",
       "      <td>0</td>\n",
       "      <td>https://i.ytimg.com/vi/vHCvmZlC5jQ/default.jpg</td>\n",
       "      <td>True</td>\n",
       "      <td>True</td>\n",
       "      <td>Watch Difficult People on Hulu now!! http://hu...</td>\n",
       "      <td>Entertainment</td>\n",
       "      <td>NaN</td>\n",
       "    </tr>\n",
       "    <tr>\n",
       "      <th>964</th>\n",
       "      <td>vHCvmZlC5jQ</td>\n",
       "      <td>17.18.11</td>\n",
       "      <td>Every Kevin Spacey Joke from Difficult People</td>\n",
       "      <td>Difficult Psycho</td>\n",
       "      <td>24</td>\n",
       "      <td>2017-11-01</td>\n",
       "      <td>kevin spacey|\"difficult people\"|\"julie klausne...</td>\n",
       "      <td>748307</td>\n",
       "      <td>0</td>\n",
       "      <td>0</td>\n",
       "      <td>0</td>\n",
       "      <td>https://i.ytimg.com/vi/vHCvmZlC5jQ/default.jpg</td>\n",
       "      <td>True</td>\n",
       "      <td>True</td>\n",
       "      <td>Watch Difficult People on Hulu now!! http://hu...</td>\n",
       "      <td>Entertainment</td>\n",
       "      <td>NaN</td>\n",
       "    </tr>\n",
       "    <tr>\n",
       "      <th>...</th>\n",
       "      <td>...</td>\n",
       "      <td>...</td>\n",
       "      <td>...</td>\n",
       "      <td>...</td>\n",
       "      <td>...</td>\n",
       "      <td>...</td>\n",
       "      <td>...</td>\n",
       "      <td>...</td>\n",
       "      <td>...</td>\n",
       "      <td>...</td>\n",
       "      <td>...</td>\n",
       "      <td>...</td>\n",
       "      <td>...</td>\n",
       "      <td>...</td>\n",
       "      <td>...</td>\n",
       "      <td>...</td>\n",
       "      <td>...</td>\n",
       "    </tr>\n",
       "    <tr>\n",
       "      <th>38214</th>\n",
       "      <td>QW8whgmyTNU</td>\n",
       "      <td>18.10.06</td>\n",
       "      <td>This Is America: Women's Edit</td>\n",
       "      <td>Nicole Arbour</td>\n",
       "      <td>24</td>\n",
       "      <td>2018-05-12</td>\n",
       "      <td>Nicole Arbour|\"World's Sexiest Comedian\"|\"funn...</td>\n",
       "      <td>3125979</td>\n",
       "      <td>0</td>\n",
       "      <td>0</td>\n",
       "      <td>0</td>\n",
       "      <td>https://i.ytimg.com/vi/QW8whgmyTNU/default.jpg</td>\n",
       "      <td>True</td>\n",
       "      <td>True</td>\n",
       "      <td>About This Is America: Women’s EditI thought i...</td>\n",
       "      <td>Entertainment</td>\n",
       "      <td>NaN</td>\n",
       "    </tr>\n",
       "    <tr>\n",
       "      <th>38382</th>\n",
       "      <td>QW8whgmyTNU</td>\n",
       "      <td>18.11.06</td>\n",
       "      <td>This Is America: Women's Edit</td>\n",
       "      <td>Nicole Arbour</td>\n",
       "      <td>24</td>\n",
       "      <td>2018-05-12</td>\n",
       "      <td>Nicole Arbour|\"World's Sexiest Comedian\"|\"funn...</td>\n",
       "      <td>3130833</td>\n",
       "      <td>0</td>\n",
       "      <td>0</td>\n",
       "      <td>0</td>\n",
       "      <td>https://i.ytimg.com/vi/QW8whgmyTNU/default.jpg</td>\n",
       "      <td>True</td>\n",
       "      <td>True</td>\n",
       "      <td>About This Is America: Women’s EditI thought i...</td>\n",
       "      <td>Entertainment</td>\n",
       "      <td>NaN</td>\n",
       "    </tr>\n",
       "    <tr>\n",
       "      <th>38555</th>\n",
       "      <td>QW8whgmyTNU</td>\n",
       "      <td>18.12.06</td>\n",
       "      <td>This Is America: Women's Edit</td>\n",
       "      <td>Nicole Arbour</td>\n",
       "      <td>24</td>\n",
       "      <td>2018-05-12</td>\n",
       "      <td>Nicole Arbour|\"World's Sexiest Comedian\"|\"funn...</td>\n",
       "      <td>3140732</td>\n",
       "      <td>0</td>\n",
       "      <td>0</td>\n",
       "      <td>0</td>\n",
       "      <td>https://i.ytimg.com/vi/QW8whgmyTNU/default.jpg</td>\n",
       "      <td>True</td>\n",
       "      <td>True</td>\n",
       "      <td>About This Is America: Women’s EditI thought i...</td>\n",
       "      <td>Entertainment</td>\n",
       "      <td>NaN</td>\n",
       "    </tr>\n",
       "    <tr>\n",
       "      <th>38730</th>\n",
       "      <td>QW8whgmyTNU</td>\n",
       "      <td>18.13.06</td>\n",
       "      <td>This Is America: Women's Edit</td>\n",
       "      <td>Nicole Arbour</td>\n",
       "      <td>24</td>\n",
       "      <td>2018-05-12</td>\n",
       "      <td>Nicole Arbour|\"World's Sexiest Comedian\"|\"funn...</td>\n",
       "      <td>3149925</td>\n",
       "      <td>0</td>\n",
       "      <td>0</td>\n",
       "      <td>0</td>\n",
       "      <td>https://i.ytimg.com/vi/QW8whgmyTNU/default.jpg</td>\n",
       "      <td>True</td>\n",
       "      <td>True</td>\n",
       "      <td>About This Is America: Women’s EditI thought i...</td>\n",
       "      <td>Entertainment</td>\n",
       "      <td>NaN</td>\n",
       "    </tr>\n",
       "    <tr>\n",
       "      <th>38900</th>\n",
       "      <td>QW8whgmyTNU</td>\n",
       "      <td>18.14.06</td>\n",
       "      <td>This Is America: Women's Edit</td>\n",
       "      <td>Nicole Arbour</td>\n",
       "      <td>24</td>\n",
       "      <td>2018-05-12</td>\n",
       "      <td>Nicole Arbour|\"World's Sexiest Comedian\"|\"funn...</td>\n",
       "      <td>3158685</td>\n",
       "      <td>0</td>\n",
       "      <td>0</td>\n",
       "      <td>0</td>\n",
       "      <td>https://i.ytimg.com/vi/QW8whgmyTNU/default.jpg</td>\n",
       "      <td>True</td>\n",
       "      <td>True</td>\n",
       "      <td>About This Is America: Women’s EditI thought i...</td>\n",
       "      <td>Entertainment</td>\n",
       "      <td>NaN</td>\n",
       "    </tr>\n",
       "  </tbody>\n",
       "</table>\n",
       "<p>272 rows × 17 columns</p>\n",
       "</div>"
      ],
      "text/plain": [
       "          video_id trending_date  \\\n",
       "75     vHCvmZlC5jQ      17.14.11   \n",
       "296    vHCvmZlC5jQ      17.15.11   \n",
       "509    vHCvmZlC5jQ      17.16.11   \n",
       "749    vHCvmZlC5jQ      17.17.11   \n",
       "964    vHCvmZlC5jQ      17.18.11   \n",
       "...            ...           ...   \n",
       "38214  QW8whgmyTNU      18.10.06   \n",
       "38382  QW8whgmyTNU      18.11.06   \n",
       "38555  QW8whgmyTNU      18.12.06   \n",
       "38730  QW8whgmyTNU      18.13.06   \n",
       "38900  QW8whgmyTNU      18.14.06   \n",
       "\n",
       "                                               title     channel_title  \\\n",
       "75     Every Kevin Spacey Joke from Difficult People  Difficult Psycho   \n",
       "296    Every Kevin Spacey Joke from Difficult People  Difficult Psycho   \n",
       "509    Every Kevin Spacey Joke from Difficult People  Difficult Psycho   \n",
       "749    Every Kevin Spacey Joke from Difficult People  Difficult Psycho   \n",
       "964    Every Kevin Spacey Joke from Difficult People  Difficult Psycho   \n",
       "...                                              ...               ...   \n",
       "38214                  This Is America: Women's Edit     Nicole Arbour   \n",
       "38382                  This Is America: Women's Edit     Nicole Arbour   \n",
       "38555                  This Is America: Women's Edit     Nicole Arbour   \n",
       "38730                  This Is America: Women's Edit     Nicole Arbour   \n",
       "38900                  This Is America: Women's Edit     Nicole Arbour   \n",
       "\n",
       "       category_id publish_time  \\\n",
       "75              24   2017-11-01   \n",
       "296             24   2017-11-01   \n",
       "509             24   2017-11-01   \n",
       "749             24   2017-11-01   \n",
       "964             24   2017-11-01   \n",
       "...            ...          ...   \n",
       "38214           24   2018-05-12   \n",
       "38382           24   2018-05-12   \n",
       "38555           24   2018-05-12   \n",
       "38730           24   2018-05-12   \n",
       "38900           24   2018-05-12   \n",
       "\n",
       "                                                    tags    views  likes  \\\n",
       "75     kevin spacey|\"difficult people\"|\"julie klausne...   735972      0   \n",
       "296    kevin spacey|\"difficult people\"|\"julie klausne...   742287      0   \n",
       "509    kevin spacey|\"difficult people\"|\"julie klausne...   745369      0   \n",
       "749    kevin spacey|\"difficult people\"|\"julie klausne...   747316      0   \n",
       "964    kevin spacey|\"difficult people\"|\"julie klausne...   748307      0   \n",
       "...                                                  ...      ...    ...   \n",
       "38214  Nicole Arbour|\"World's Sexiest Comedian\"|\"funn...  3125979      0   \n",
       "38382  Nicole Arbour|\"World's Sexiest Comedian\"|\"funn...  3130833      0   \n",
       "38555  Nicole Arbour|\"World's Sexiest Comedian\"|\"funn...  3140732      0   \n",
       "38730  Nicole Arbour|\"World's Sexiest Comedian\"|\"funn...  3149925      0   \n",
       "38900  Nicole Arbour|\"World's Sexiest Comedian\"|\"funn...  3158685      0   \n",
       "\n",
       "       dislikes  comment_count  \\\n",
       "75            0              0   \n",
       "296           0              0   \n",
       "509           0              0   \n",
       "749           0              0   \n",
       "964           0              0   \n",
       "...         ...            ...   \n",
       "38214         0              0   \n",
       "38382         0              0   \n",
       "38555         0              0   \n",
       "38730         0              0   \n",
       "38900         0              0   \n",
       "\n",
       "                                       thumbnail_link  comments_disabled  \\\n",
       "75     https://i.ytimg.com/vi/vHCvmZlC5jQ/default.jpg               True   \n",
       "296    https://i.ytimg.com/vi/vHCvmZlC5jQ/default.jpg               True   \n",
       "509    https://i.ytimg.com/vi/vHCvmZlC5jQ/default.jpg               True   \n",
       "749    https://i.ytimg.com/vi/vHCvmZlC5jQ/default.jpg               True   \n",
       "964    https://i.ytimg.com/vi/vHCvmZlC5jQ/default.jpg               True   \n",
       "...                                               ...                ...   \n",
       "38214  https://i.ytimg.com/vi/QW8whgmyTNU/default.jpg               True   \n",
       "38382  https://i.ytimg.com/vi/QW8whgmyTNU/default.jpg               True   \n",
       "38555  https://i.ytimg.com/vi/QW8whgmyTNU/default.jpg               True   \n",
       "38730  https://i.ytimg.com/vi/QW8whgmyTNU/default.jpg               True   \n",
       "38900  https://i.ytimg.com/vi/QW8whgmyTNU/default.jpg               True   \n",
       "\n",
       "       ratings_disabled                                        description  \\\n",
       "75                 True  Watch Difficult People on Hulu now!! http://hu...   \n",
       "296                True  Watch Difficult People on Hulu now!! http://hu...   \n",
       "509                True  Watch Difficult People on Hulu now!! http://hu...   \n",
       "749                True  Watch Difficult People on Hulu now!! http://hu...   \n",
       "964                True  Watch Difficult People on Hulu now!! http://hu...   \n",
       "...                 ...                                                ...   \n",
       "38214              True  About This Is America: Women’s EditI thought i...   \n",
       "38382              True  About This Is America: Women’s EditI thought i...   \n",
       "38555              True  About This Is America: Women’s EditI thought i...   \n",
       "38730              True  About This Is America: Women’s EditI thought i...   \n",
       "38900              True  About This Is America: Women’s EditI thought i...   \n",
       "\n",
       "       category_name  dislikes_ratio  \n",
       "75     Entertainment             NaN  \n",
       "296    Entertainment             NaN  \n",
       "509    Entertainment             NaN  \n",
       "749    Entertainment             NaN  \n",
       "964    Entertainment             NaN  \n",
       "...              ...             ...  \n",
       "38214  Entertainment             NaN  \n",
       "38382  Entertainment             NaN  \n",
       "38555  Entertainment             NaN  \n",
       "38730  Entertainment             NaN  \n",
       "38900  Entertainment             NaN  \n",
       "\n",
       "[272 rows x 17 columns]"
      ]
     },
     "execution_count": 19,
     "metadata": {},
     "output_type": "execute_result"
    }
   ],
   "source": [
    "ca_videos['dislikes_ratio'] = ca_videos['dislikes']/(ca_videos['likes']+ ca_videos['dislikes'])\n",
    "ca_videos[ca_videos['dislikes_ratio'].apply(lambda x: pd.isna(x))]\n"
   ]
  },
  {
   "cell_type": "markdown",
   "metadata": {},
   "source": [
    "As expected, the dislikes ratio has null values, because some videos have 0 likes and dislikes. To correct this, we will replace all null values with the value zero."
   ]
  },
  {
   "cell_type": "code",
   "execution_count": 20,
   "metadata": {},
   "outputs": [],
   "source": [
    "ca_videos['dislikes_ratio'] = ca_videos['dislikes_ratio'].fillna(value = 0)"
   ]
  },
  {
   "cell_type": "markdown",
   "metadata": {},
   "source": [
    "## Comment Count Ratio"
   ]
  },
  {
   "cell_type": "code",
   "execution_count": 21,
   "metadata": {},
   "outputs": [],
   "source": [
    "ca_videos['comment_ratio'] = ca_videos['comment_count']/(ca_videos['comment_count']+ ca_videos['views'])\n"
   ]
  },
  {
   "cell_type": "markdown",
   "metadata": {},
   "source": [
    "## Most trending categories"
   ]
  },
  {
   "cell_type": "code",
   "execution_count": 22,
   "metadata": {},
   "outputs": [
    {
     "data": {
      "text/plain": [
       "[Text(0.5, 1.0, 'Most Trending Categories')]"
      ]
     },
     "execution_count": 22,
     "metadata": {},
     "output_type": "execute_result"
    },
    {
     "data": {
      "image/png": "[encoded data removed]",
      "text/plain": [
       "<Figure size 432x288 with 1 Axes>"
      ]
     },
     "metadata": {
      "needs_background": "light"
     },
     "output_type": "display_data"
    }
   ],
   "source": [
    "ax = sns.countplot(ca_videos[\"category_name\"], palette = \"rainbow\",\n",
    "                   order= ca_videos['category_name'].value_counts().index)\n",
    "ax.set(xlabel = \"Catgeory\", ylabel = \"Count\")\n",
    "plt.xticks(rotation = 90)\n",
    "ax.set(title = \"Most Trending Categories\")\n"
   ]
  },
  {
   "cell_type": "markdown",
   "metadata": {},
   "source": [
    "### Title Length"
   ]
  },
  {
   "cell_type": "code",
   "execution_count": 23,
   "metadata": {},
   "outputs": [
    {
     "data": {
      "text/plain": [
       "count    38847.000000\n",
       "mean        49.545396\n",
       "std         19.864898\n",
       "min          6.000000\n",
       "15%         29.000000\n",
       "30%         36.000000\n",
       "50%         48.000000\n",
       "65%         56.000000\n",
       "80%         67.000000\n",
       "95%         87.000000\n",
       "max        100.000000\n",
       "Name: title_length, dtype: float64"
      ]
     },
     "execution_count": 23,
     "metadata": {},
     "output_type": "execute_result"
    }
   ],
   "source": [
    "ca_videos['title_length'] = ca_videos.title.apply(lambda x: len(x))\n",
    "ca_videos['title_length'].describe(percentiles=[.15,.30,.5,.65,.80, .95])"
   ]
  },
  {
   "cell_type": "code",
   "execution_count": 24,
   "metadata": {},
   "outputs": [
    {
     "data": {
      "image/png": "[encoded data removed]",
      "text/plain": [
       "<Figure size 432x288 with 1 Axes>"
      ]
     },
     "metadata": {
      "needs_background": "light"
     },
     "output_type": "display_data"
    }
   ],
   "source": [
    "ax = sns.distplot(ca_videos.title_length, kde = False, color = 'midnightblue',\n",
    "                  hist_kws = {'alpha': 1})"
   ]
  },
  {
   "cell_type": "code",
   "execution_count": 25,
   "metadata": {},
   "outputs": [
    {
     "data": {
      "text/plain": [
       "(array([0.5, 1.5, 2.5, 3.5, 4.5, 5.5, 6.5, 7.5]),\n",
       " <a list of 8 Text xticklabel objects>)"
      ]
     },
     "execution_count": 25,
     "metadata": {},
     "output_type": "execute_result"
    },
    {
     "data": {
      "image/png": "[encoded data removed]",
      "text/plain": [
       "<Figure size 432x288 with 2 Axes>"
      ]
     },
     "metadata": {
      "needs_background": "light"
     },
     "output_type": "display_data"
    }
   ],
   "source": [
    "sns.heatmap(ca_videos.select_dtypes(include = ['number']).corr(method = 'pearson'), fmt='0.2f', cmap = 'Blues_r', annot=True)\n",
    "plt.title('Correlation Matrix of Numerical Values', fontsize=9)\n",
    "\n",
    "plt.yticks(fontsize=14, rotation=60)\n",
    "plt.xticks(fontsize=14, rotation = 60)"
   ]
  },
  {
   "cell_type": "code",
   "execution_count": null,
   "metadata": {},
   "outputs": [],
   "source": []
  },
  {
   "cell_type": "code",
   "execution_count": null,
   "metadata": {},
   "outputs": [],
   "source": []
  },
  {
   "cell_type": "code",
   "execution_count": null,
   "metadata": {},
   "outputs": [],
   "source": []
  }
 ],
 "metadata": {
  "kernelspec": {
   "display_name": "Python 3",
   "language": "python",
   "name": "python3"
  },
  "language_info": {
   "codemirror_mode": {
    "name": "ipython",
    "version": 3
   },
   "file_extension": ".py",
   "mimetype": "text/x-python",
   "name": "python",
   "nbconvert_exporter": "python",
   "pygments_lexer": "ipython3",
   "version": "3.7.6"
  }
 },
 "nbformat": 4,
 "nbformat_minor": 4
}
